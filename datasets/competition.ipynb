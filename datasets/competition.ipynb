{
 "cells": [
  {
   "attachments": {},
   "cell_type": "markdown",
   "metadata": {},
   "source": [
    "# Data Cleaning"
   ]
  },
  {
   "cell_type": "code",
   "execution_count": 18,
   "metadata": {},
   "outputs": [],
   "source": [
    "import pandas as pd\n",
    "import numpy as np\n",
    "import re\n",
    "import nltk"
   ]
  },
  {
   "cell_type": "code",
   "execution_count": 19,
   "metadata": {},
   "outputs": [
    {
     "name": "stderr",
     "output_type": "stream",
     "text": [
      "[nltk_data] Downloading package stopwords to\n",
      "[nltk_data]     C:\\Users\\logonrmlocal\\AppData\\Roaming\\nltk_data...\n",
      "[nltk_data]   Package stopwords is already up-to-date!\n"
     ]
    }
   ],
   "source": [
    "nltk.download('stopwords')\n",
    "stop_words = nltk.corpus.stopwords.words('portuguese')\n",
    "st = nltk.SnowballStemmer('portuguese')\n",
    "df = pd.read_csv('datasets/train.csv')"
   ]
  },
  {
   "cell_type": "code",
   "execution_count": 54,
   "metadata": {},
   "outputs": [
    {
     "ename": "error",
     "evalue": "incomplete escape \\U00256 at position 1",
     "output_type": "error",
     "traceback": [
      "\u001b[1;31m---------------------------------------------------------------------------\u001b[0m",
      "\u001b[1;31merror\u001b[0m                                     Traceback (most recent call last)",
      "Cell \u001b[1;32mIn[54], line 17\u001b[0m\n\u001b[0;32m     13\u001b[0m     df[clean_col] \u001b[39m=\u001b[39m df[clean_col]\u001b[39m.\u001b[39mapply(\u001b[39mlambda\u001b[39;00m x: RE_NL\u001b[39m.\u001b[39msub(\u001b[39mr\u001b[39m\u001b[39m'\u001b[39m\u001b[39m'\u001b[39m, x))\n\u001b[0;32m     15\u001b[0m     \u001b[39mreturn\u001b[39;00m df\n\u001b[1;32m---> 17\u001b[0m df \u001b[39m=\u001b[39m clean_data(df, \u001b[39m'\u001b[39;49m\u001b[39mtext\u001b[39;49m\u001b[39m'\u001b[39;49m, \u001b[39m'\u001b[39;49m\u001b[39mclean_text\u001b[39;49m\u001b[39m'\u001b[39;49m)\n\u001b[0;32m     18\u001b[0m df\u001b[39m.\u001b[39mhead()\n",
      "Cell \u001b[1;32mIn[54], line 2\u001b[0m, in \u001b[0;36mclean_data\u001b[1;34m(df, col, clean_col)\u001b[0m\n\u001b[0;32m      1\u001b[0m \u001b[39mdef\u001b[39;00m \u001b[39mclean_data\u001b[39m(df, col, clean_col):\n\u001b[1;32m----> 2\u001b[0m     RE_EMOJI \u001b[39m=\u001b[39m re\u001b[39m.\u001b[39;49mcompile(\u001b[39mr\u001b[39;49m\u001b[39m'\u001b[39;49m\u001b[39m[\u001b[39;49m\u001b[39m\\\u001b[39;49m\u001b[39mU00256-\u001b[39;49m\u001b[39m\\\u001b[39;49m\u001b[39mU0010ffff]\u001b[39;49m\u001b[39m'\u001b[39;49m, flags\u001b[39m=\u001b[39;49mre\u001b[39m.\u001b[39;49mUNICODE)\n\u001b[0;32m      3\u001b[0m     RE_RT_MENTION \u001b[39m=\u001b[39m re\u001b[39m.\u001b[39mcompile(\u001b[39mr\u001b[39m\u001b[39m'\u001b[39m\u001b[39mrt(\u001b[39m\u001b[39m\\\u001b[39m\u001b[39mA|\u001b[39m\u001b[39m\\\u001b[39m\u001b[39ms)@(\u001b[39m\u001b[39m\\\u001b[39m\u001b[39mw)+|@\u001b[39m\u001b[39m\\\u001b[39m\u001b[39mw+\u001b[39m\u001b[39m'\u001b[39m, flags\u001b[39m=\u001b[39mre\u001b[39m.\u001b[39mUNICODE)\n\u001b[0;32m      4\u001b[0m     RE_HASHTAG \u001b[39m=\u001b[39m re\u001b[39m.\u001b[39mcompile(\u001b[39mr\u001b[39m\u001b[39m'\u001b[39m\u001b[39m#\u001b[39m\u001b[39m\\\u001b[39m\u001b[39mw+\u001b[39m\u001b[39m'\u001b[39m, flags\u001b[39m=\u001b[39mre\u001b[39m.\u001b[39mUNICODE)\n",
      "File \u001b[1;32mc:\\Program Files\\Python38\\lib\\re.py:250\u001b[0m, in \u001b[0;36mcompile\u001b[1;34m(pattern, flags)\u001b[0m\n\u001b[0;32m    248\u001b[0m \u001b[39mdef\u001b[39;00m \u001b[39mcompile\u001b[39m(pattern, flags\u001b[39m=\u001b[39m\u001b[39m0\u001b[39m):\n\u001b[0;32m    249\u001b[0m     \u001b[39m\"\u001b[39m\u001b[39mCompile a regular expression pattern, returning a Pattern object.\u001b[39m\u001b[39m\"\u001b[39m\n\u001b[1;32m--> 250\u001b[0m     \u001b[39mreturn\u001b[39;00m _compile(pattern, flags)\n",
      "File \u001b[1;32mc:\\Program Files\\Python38\\lib\\re.py:302\u001b[0m, in \u001b[0;36m_compile\u001b[1;34m(pattern, flags)\u001b[0m\n\u001b[0;32m    300\u001b[0m \u001b[39mif\u001b[39;00m \u001b[39mnot\u001b[39;00m sre_compile\u001b[39m.\u001b[39misstring(pattern):\n\u001b[0;32m    301\u001b[0m     \u001b[39mraise\u001b[39;00m \u001b[39mTypeError\u001b[39;00m(\u001b[39m\"\u001b[39m\u001b[39mfirst argument must be string or compiled pattern\u001b[39m\u001b[39m\"\u001b[39m)\n\u001b[1;32m--> 302\u001b[0m p \u001b[39m=\u001b[39m sre_compile\u001b[39m.\u001b[39;49mcompile(pattern, flags)\n\u001b[0;32m    303\u001b[0m \u001b[39mif\u001b[39;00m \u001b[39mnot\u001b[39;00m (flags \u001b[39m&\u001b[39m DEBUG):\n\u001b[0;32m    304\u001b[0m     \u001b[39mif\u001b[39;00m \u001b[39mlen\u001b[39m(_cache) \u001b[39m>\u001b[39m\u001b[39m=\u001b[39m _MAXCACHE:\n\u001b[0;32m    305\u001b[0m         \u001b[39m# Drop the oldest item\u001b[39;00m\n",
      "File \u001b[1;32mc:\\Program Files\\Python38\\lib\\sre_compile.py:764\u001b[0m, in \u001b[0;36mcompile\u001b[1;34m(p, flags)\u001b[0m\n\u001b[0;32m    762\u001b[0m \u001b[39mif\u001b[39;00m isstring(p):\n\u001b[0;32m    763\u001b[0m     pattern \u001b[39m=\u001b[39m p\n\u001b[1;32m--> 764\u001b[0m     p \u001b[39m=\u001b[39m sre_parse\u001b[39m.\u001b[39;49mparse(p, flags)\n\u001b[0;32m    765\u001b[0m \u001b[39melse\u001b[39;00m:\n\u001b[0;32m    766\u001b[0m     pattern \u001b[39m=\u001b[39m \u001b[39mNone\u001b[39;00m\n",
      "File \u001b[1;32mc:\\Program Files\\Python38\\lib\\sre_parse.py:948\u001b[0m, in \u001b[0;36mparse\u001b[1;34m(str, flags, state)\u001b[0m\n\u001b[0;32m    945\u001b[0m state\u001b[39m.\u001b[39mstr \u001b[39m=\u001b[39m \u001b[39mstr\u001b[39m\n\u001b[0;32m    947\u001b[0m \u001b[39mtry\u001b[39;00m:\n\u001b[1;32m--> 948\u001b[0m     p \u001b[39m=\u001b[39m _parse_sub(source, state, flags \u001b[39m&\u001b[39;49m SRE_FLAG_VERBOSE, \u001b[39m0\u001b[39;49m)\n\u001b[0;32m    949\u001b[0m \u001b[39mexcept\u001b[39;00m Verbose:\n\u001b[0;32m    950\u001b[0m     \u001b[39m# the VERBOSE flag was switched on inside the pattern.  to be\u001b[39;00m\n\u001b[0;32m    951\u001b[0m     \u001b[39m# on the safe side, we'll parse the whole thing again...\u001b[39;00m\n\u001b[0;32m    952\u001b[0m     state \u001b[39m=\u001b[39m State()\n",
      "File \u001b[1;32mc:\\Program Files\\Python38\\lib\\sre_parse.py:443\u001b[0m, in \u001b[0;36m_parse_sub\u001b[1;34m(source, state, verbose, nested)\u001b[0m\n\u001b[0;32m    441\u001b[0m start \u001b[39m=\u001b[39m source\u001b[39m.\u001b[39mtell()\n\u001b[0;32m    442\u001b[0m \u001b[39mwhile\u001b[39;00m \u001b[39mTrue\u001b[39;00m:\n\u001b[1;32m--> 443\u001b[0m     itemsappend(_parse(source, state, verbose, nested \u001b[39m+\u001b[39;49m \u001b[39m1\u001b[39;49m,\n\u001b[0;32m    444\u001b[0m                        \u001b[39mnot\u001b[39;49;00m nested \u001b[39mand\u001b[39;49;00m \u001b[39mnot\u001b[39;49;00m items))\n\u001b[0;32m    445\u001b[0m     \u001b[39mif\u001b[39;00m \u001b[39mnot\u001b[39;00m sourcematch(\u001b[39m\"\u001b[39m\u001b[39m|\u001b[39m\u001b[39m\"\u001b[39m):\n\u001b[0;32m    446\u001b[0m         \u001b[39mbreak\u001b[39;00m\n",
      "File \u001b[1;32mc:\\Program Files\\Python38\\lib\\sre_parse.py:554\u001b[0m, in \u001b[0;36m_parse\u001b[1;34m(source, state, verbose, nested, first)\u001b[0m\n\u001b[0;32m    552\u001b[0m     \u001b[39mbreak\u001b[39;00m\n\u001b[0;32m    553\u001b[0m \u001b[39melif\u001b[39;00m this[\u001b[39m0\u001b[39m] \u001b[39m==\u001b[39m \u001b[39m\"\u001b[39m\u001b[39m\\\\\u001b[39;00m\u001b[39m\"\u001b[39m:\n\u001b[1;32m--> 554\u001b[0m     code1 \u001b[39m=\u001b[39m _class_escape(source, this)\n\u001b[0;32m    555\u001b[0m \u001b[39melse\u001b[39;00m:\n\u001b[0;32m    556\u001b[0m     \u001b[39mif\u001b[39;00m \u001b[39mset\u001b[39m \u001b[39mand\u001b[39;00m this \u001b[39min\u001b[39;00m \u001b[39m'\u001b[39m\u001b[39m-&~|\u001b[39m\u001b[39m'\u001b[39m \u001b[39mand\u001b[39;00m source\u001b[39m.\u001b[39mnext \u001b[39m==\u001b[39m this:\n",
      "File \u001b[1;32mc:\\Program Files\\Python38\\lib\\sre_parse.py:321\u001b[0m, in \u001b[0;36m_class_escape\u001b[1;34m(source, escape)\u001b[0m\n\u001b[0;32m    319\u001b[0m escape \u001b[39m+\u001b[39m\u001b[39m=\u001b[39m source\u001b[39m.\u001b[39mgetwhile(\u001b[39m8\u001b[39m, HEXDIGITS)\n\u001b[0;32m    320\u001b[0m \u001b[39mif\u001b[39;00m \u001b[39mlen\u001b[39m(escape) \u001b[39m!=\u001b[39m \u001b[39m10\u001b[39m:\n\u001b[1;32m--> 321\u001b[0m     \u001b[39mraise\u001b[39;00m source\u001b[39m.\u001b[39merror(\u001b[39m\"\u001b[39m\u001b[39mincomplete escape \u001b[39m\u001b[39m%s\u001b[39;00m\u001b[39m\"\u001b[39m \u001b[39m%\u001b[39m escape, \u001b[39mlen\u001b[39m(escape))\n\u001b[0;32m    322\u001b[0m c \u001b[39m=\u001b[39m \u001b[39mint\u001b[39m(escape[\u001b[39m2\u001b[39m:], \u001b[39m16\u001b[39m)\n\u001b[0;32m    323\u001b[0m \u001b[39mchr\u001b[39m(c) \u001b[39m# raise ValueError for invalid code\u001b[39;00m\n",
      "\u001b[1;31merror\u001b[0m: incomplete escape \\U00256 at position 1"
     ]
    }
   ],
   "source": [
    "def clean_data(df, col, clean_col):\n",
    "    RE_EMOJI = re.compile(r'[\\U00256-\\U0010ffff]', flags=re.UNICODE)\n",
    "    RE_RT_MENTION = re.compile(r'rt(\\A|\\s)@(\\w)+|@\\w+', flags=re.UNICODE)\n",
    "    RE_HASHTAG = re.compile(r'#\\w+', flags=re.UNICODE)\n",
    "    RE_HTTP = re.compile(r'https?:\\/\\/(?:www\\.)?([-a-zA-Z0-9@:%._\\+~#=]{2,256}\\.[a-z]{2,6}\\b)*(\\/[\\/\\d\\w\\.-]*)*(?:[\\?])*(.+)*', flags=re.UNICODE)\n",
    "    RE_NL = re.compile(r'(\\r\\n|\\r|\\n)', flags=re.UNICODE)\n",
    "\n",
    "    df[clean_col] = df[col].apply(lambda x: x.lower().strip())\n",
    "    df[clean_col] = df[clean_col].apply(lambda x: RE_EMOJI.sub(r'', x))\n",
    "    df[clean_col] = df[clean_col].apply(lambda x: RE_RT_MENTION.sub(r'', x))\n",
    "    df[clean_col] = df[clean_col].apply(lambda x: RE_HASHTAG.sub(r'', x))\n",
    "    df[clean_col] = df[clean_col].apply(lambda x: RE_HTTP.sub(r'', x))\n",
    "    df[clean_col] = df[clean_col].apply(lambda x: RE_NL.sub(r'', x))\n",
    "\n",
    "    return df\n",
    "\n",
    "df = clean_data(df, 'text', 'clean_text')\n",
    "df.head()"
   ]
  }
 ],
 "metadata": {
  "kernelspec": {
   "display_name": "Python 3",
   "language": "python",
   "name": "python3"
  },
  "language_info": {
   "codemirror_mode": {
    "name": "ipython",
    "version": 3
   },
   "file_extension": ".py",
   "mimetype": "text/x-python",
   "name": "python",
   "nbconvert_exporter": "python",
   "pygments_lexer": "ipython3",
   "version": "3.8.2"
  },
  "orig_nbformat": 4
 },
 "nbformat": 4,
 "nbformat_minor": 2
}
